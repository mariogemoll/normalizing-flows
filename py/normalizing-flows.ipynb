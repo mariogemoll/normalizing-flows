{
 "cells": [
  {
   "cell_type": "markdown",
   "id": "abe28007-af47-46b3-8980-0ede27f6dac1",
   "metadata": {},
   "source": [
    "# Normalizing flows"
   ]
  },
  {
   "cell_type": "markdown",
   "id": "519fe846-7c56-4619-b207-69cf44ee53fc",
   "metadata": {},
   "source": [
    "Applying a function to a random variable turns it into another random variable. If the\n",
    "function is invertible and differentiable, we can get the PDF of the transformed random\n",
    "variable using the change of variables formula:\n",
    "$$\n",
    "p_Y(x) = \\frac{p_X(z)}{\\left| f'(z) \\right|}\n",
    "$$\n",
    "\n",
    "where $z$ is the result of applying the inverse of the function ($z=f^{-1}(x)$)."
   ]
  }
 ],
 "metadata": {
  "kernelspec": {
   "display_name": "Python 3 (ipykernel)",
   "language": "python",
   "name": "python3"
  },
  "language_info": {
   "codemirror_mode": {
    "name": "ipython",
    "version": 3
   },
   "file_extension": ".py",
   "mimetype": "text/x-python",
   "name": "python",
   "nbconvert_exporter": "python",
   "pygments_lexer": "ipython3",
   "version": "3.14.0rc3"
  }
 },
 "nbformat": 4,
 "nbformat_minor": 5
}
