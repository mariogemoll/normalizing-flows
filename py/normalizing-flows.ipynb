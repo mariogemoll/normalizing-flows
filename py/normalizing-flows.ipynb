{
 "cells": [
  {
   "cell_type": "markdown",
   "id": "abe28007-af47-46b3-8980-0ede27f6dac1",
   "metadata": {},
   "source": [
    "# Normalizing Flows"
   ]
  },
  {
   "cell_type": "markdown",
   "id": "a8ddc82f-e071-4dea-8d24-6a5e272e7afa",
   "metadata": {},
   "source": [
    "Let's create a normalizing flow model for the moons dataset."
   ]
  },
  {
   "cell_type": "code",
   "execution_count": null,
   "id": "51457f2c-b981-44d6-b036-31617c140bb0",
   "metadata": {},
   "outputs": [],
   "source": [
    "from sklearn.datasets import make_moons\n",
    "import torch\n",
    "import numpy as np\n",
    "import matplotlib.pyplot as plt\n",
    "\n",
    "device = torch.device(\n",
    "    \"cuda\" if torch.cuda.is_available()\n",
    "    else \"mps\" if torch.backends.mps.is_available()\n",
    "    else \"cpu\"\n",
    ")\n",
    "\n",
    "def sample_from_moons(n):\n",
    "    moons = make_moons(n_samples=n, noise=0.05)[0].astype(np.float32)\n",
    "    return torch.from_numpy(moons)\n",
    "\n",
    "X = sample_from_moons(10000)\n",
    "plt.scatter(X[:, 0], X[:, 1], s=1, alpha=0.5)\n",
    "plt.show()"
   ]
  }
 ],
 "metadata": {
  "kernelspec": {
   "display_name": "Python 3 (ipykernel)",
   "language": "python",
   "name": "python3"
  },
  "language_info": {
   "codemirror_mode": {
    "name": "ipython",
    "version": 3
   },
   "file_extension": ".py",
   "mimetype": "text/x-python",
   "name": "python",
   "nbconvert_exporter": "python",
   "pygments_lexer": "ipython3",
   "version": "3.13.5"
  }
 },
 "nbformat": 4,
 "nbformat_minor": 5
}
